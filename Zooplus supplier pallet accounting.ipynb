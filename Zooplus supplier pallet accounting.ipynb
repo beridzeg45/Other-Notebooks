{
 "cells": [
  {
   "cell_type": "code",
   "execution_count": 1,
   "id": "5fc3fc23",
   "metadata": {},
   "outputs": [],
   "source": [
    "import pandas as pd\n",
    "import os"
   ]
  },
  {
   "cell_type": "code",
   "execution_count": 2,
   "id": "194b0f89",
   "metadata": {},
   "outputs": [],
   "source": [
    "pd.set_option(\"display.max_columns\",100)\n",
    "df=pd.read_excel(r\"C:\\Users\\berid\\OneDrive\\Desktop\\Pallets OV 2022 September.xlsx\",\"Data\")\n",
    "contacts=pd.read_excel(r\"C:\\Users\\berid\\OneDrive\\Desktop\\Work\\supplier pallet account\\Pallet account contacts 2022.xlsx\",\"contacts\")\n",
    "df.columns=df.columns.str.strip()"
   ]
  },
  {
   "cell_type": "code",
   "execution_count": 3,
   "id": "1dcc1933",
   "metadata": {},
   "outputs": [],
   "source": [
    "path=r\"C:\\Users\\berid\\OneDrive\\Desktop\\supplier pallet accounting September\\\\\""
   ]
  },
  {
   "cell_type": "code",
   "execution_count": 4,
   "id": "495e127d",
   "metadata": {},
   "outputs": [
    {
     "name": "stderr",
     "output_type": "stream",
     "text": [
      "C:\\Users\\berid\\AppData\\Local\\Temp\\ipykernel_10080\\983978474.py:2: UserWarning: This pattern has match groups. To actually get the groups, use str.extract.\n",
      "  data=df[df[\"Supplier\"].str.strip().str.contains(i,na=False,case=False,regex=True)]\n",
      "C:\\Users\\berid\\AppData\\Local\\Temp\\ipykernel_10080\\983978474.py:2: UserWarning: This pattern has match groups. To actually get the groups, use str.extract.\n",
      "  data=df[df[\"Supplier\"].str.strip().str.contains(i,na=False,case=False,regex=True)]\n"
     ]
    }
   ],
   "source": [
    "for i in contacts[\"Supplier\"].str.strip().unique():\n",
    "    data=df[df[\"Supplier\"].str.strip().str.contains(i,na=False,case=False,regex=True)]\n",
    "    data.to_excel(path+\"zooplus pallet acc 09-2022 \"+str(i)+\".xlsx\",index=False)"
   ]
  },
  {
   "cell_type": "code",
   "execution_count": null,
   "id": "9d34841f",
   "metadata": {},
   "outputs": [],
   "source": []
  }
 ],
 "metadata": {
  "kernelspec": {
   "display_name": "Python 3 (ipykernel)",
   "language": "python",
   "name": "python3"
  },
  "language_info": {
   "codemirror_mode": {
    "name": "ipython",
    "version": 3
   },
   "file_extension": ".py",
   "mimetype": "text/x-python",
   "name": "python",
   "nbconvert_exporter": "python",
   "pygments_lexer": "ipython3",
   "version": "3.9.7"
  }
 },
 "nbformat": 4,
 "nbformat_minor": 5
}
