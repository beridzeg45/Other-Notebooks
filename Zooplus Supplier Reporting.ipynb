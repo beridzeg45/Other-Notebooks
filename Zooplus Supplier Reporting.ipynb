{
 "cells": [
  {
   "cell_type": "markdown",
   "id": "b62e5943",
   "metadata": {},
   "source": [
    "# Supplier Pallet Accounting Monthly"
   ]
  },
  {
   "cell_type": "code",
   "execution_count": 1,
   "id": "7bfc9f02",
   "metadata": {},
   "outputs": [],
   "source": [
    "import pandas as pd\n",
    "import os\n",
    "\n",
    "pd.set_option(\"display.max_columns\",100)"
   ]
  },
  {
   "cell_type": "code",
   "execution_count": 5,
   "id": "3a5dd87f",
   "metadata": {},
   "outputs": [
    {
     "name": "stdout",
     "output_type": "stream",
     "text": [
      "CPU times: total: 22.9 s\n",
      "Wall time: 22.9 s\n"
     ]
    }
   ],
   "source": [
    "%%time\n",
    "\n",
    "df=pd.read_excel(r\"C:\\Users\\berid\\OneDrive\\Desktop\\Pallets OV 2023 May.xlsx\",\"Data\")\n",
    "suppliers=pd.read_excel(r\"C:\\Users\\berid\\OneDrive\\Desktop\\Balance per supplier.xlsx\",\"Balance\")\n",
    "df.columns=df.columns.str.strip()"
   ]
  },
  {
   "cell_type": "code",
   "execution_count": 3,
   "id": "996be2fa",
   "metadata": {},
   "outputs": [],
   "source": [
    "path=r\"C:\\Users\\berid\\OneDrive\\Desktop\\supplier pallet accounting May 2023\\\\\""
   ]
  },
  {
   "cell_type": "code",
   "execution_count": null,
   "id": "86796ec4",
   "metadata": {},
   "outputs": [],
   "source": [
    "for keyword,supplier in zip(suppliers['Keyword'].str.strip(),suppliers[\"Supplier\"].str.strip()):\n",
    "    data=df[df[\"Supplier\"].str.strip().str.contains(keyword,na=False,case=False,regex=True)]\n",
    "    data.to_excel(path+\"zooplus pallet acc 05-2023 \"+str(supplier)+\".xlsx\",index=False)"
   ]
  },
  {
   "cell_type": "markdown",
   "id": "06cdddad",
   "metadata": {},
   "source": [
    "# Balance Per Supplier "
   ]
  },
  {
   "cell_type": "code",
   "execution_count": 23,
   "id": "a2f65d57",
   "metadata": {
    "scrolled": true
   },
   "outputs": [
    {
     "name": "stdout",
     "output_type": "stream",
     "text": [
      "zooplus pallet acc 05-2023 Affinity.xlsx\n",
      "zooplus pallet acc 05-2023 Agras.xlsx\n",
      "zooplus pallet acc 05-2023 Agridient.xlsx\n",
      "zooplus pallet acc 05-2023 Agros.xlsx\n"
     ]
    },
    {
     "name": "stderr",
     "output_type": "stream",
     "text": [
      "C:\\Users\\berid\\AppData\\Local\\Temp\\ipykernel_2356\\3707083946.py:4: FutureWarning: Inferring datetime64[ns] from data containing strings is deprecated and will be removed in a future version. To retain the old behavior explicitly pass Series(data, dtype=datetime64[ns])\n",
      "  df=pd.read_excel(path+file,sheet_name='Sheet1')\n"
     ]
    },
    {
     "name": "stdout",
     "output_type": "stream",
     "text": [
      "zooplus pallet acc 05-2023 Almo Nature.xlsx\n",
      "zooplus pallet acc 05-2023 Alpha Spirit.xlsx\n",
      "zooplus pallet acc 05-2023 Animal adventure.xlsx\n",
      "zooplus pallet acc 05-2023 Animonda.xlsx\n",
      "zooplus pallet acc 05-2023 Arden Grange.xlsx\n",
      "zooplus pallet acc 05-2023 Aumüller.xlsx\n"
     ]
    },
    {
     "name": "stderr",
     "output_type": "stream",
     "text": [
      "C:\\Users\\berid\\AppData\\Local\\Temp\\ipykernel_2356\\3707083946.py:4: FutureWarning: Inferring datetime64[ns] from data containing strings is deprecated and will be removed in a future version. To retain the old behavior explicitly pass Series(data, dtype=datetime64[ns])\n",
      "  df=pd.read_excel(path+file,sheet_name='Sheet1')\n"
     ]
    },
    {
     "name": "stdout",
     "output_type": "stream",
     "text": [
      "zooplus pallet acc 05-2023 B&L Litty cat.xlsx\n",
      "zooplus pallet acc 05-2023 Barking Heads.xlsx\n",
      "zooplus pallet acc 05-2023 Beaphar.xlsx\n"
     ]
    },
    {
     "name": "stderr",
     "output_type": "stream",
     "text": [
      "C:\\Users\\berid\\AppData\\Local\\Temp\\ipykernel_2356\\3707083946.py:4: FutureWarning: Inferring datetime64[ns] from data containing strings is deprecated and will be removed in a future version. To retain the old behavior explicitly pass Series(data, dtype=datetime64[ns])\n",
      "  df=pd.read_excel(path+file,sheet_name='Sheet1')\n"
     ]
    },
    {
     "name": "stdout",
     "output_type": "stream",
     "text": [
      "zooplus pallet acc 05-2023 BeFood.xlsx\n",
      "zooplus pallet acc 05-2023 Bewital.xlsx\n"
     ]
    },
    {
     "name": "stderr",
     "output_type": "stream",
     "text": [
      "C:\\Users\\berid\\AppData\\Local\\Temp\\ipykernel_2356\\3707083946.py:4: FutureWarning: Inferring datetime64[ns] from data containing strings is deprecated and will be removed in a future version. To retain the old behavior explicitly pass Series(data, dtype=datetime64[ns])\n",
      "  df=pd.read_excel(path+file,sheet_name='Sheet1')\n"
     ]
    },
    {
     "name": "stdout",
     "output_type": "stream",
     "text": [
      "zooplus pallet acc 05-2023 Bosch.xlsx\n",
      "zooplus pallet acc 05-2023 Bunny.xlsx\n",
      "zooplus pallet acc 05-2023 Burgess.xlsx\n",
      "zooplus pallet acc 05-2023 Burns.xlsx\n"
     ]
    },
    {
     "name": "stderr",
     "output_type": "stream",
     "text": [
      "C:\\Users\\berid\\AppData\\Local\\Temp\\ipykernel_2356\\3707083946.py:4: FutureWarning: Inferring datetime64[ns] from data containing strings is deprecated and will be removed in a future version. To retain the old behavior explicitly pass Series(data, dtype=datetime64[ns])\n",
      "  df=pd.read_excel(path+file,sheet_name='Sheet1')\n",
      "C:\\Users\\berid\\AppData\\Local\\Temp\\ipykernel_2356\\3707083946.py:4: FutureWarning: Inferring datetime64[ns] from data containing strings is deprecated and will be removed in a future version. To retain the old behavior explicitly pass Series(data, dtype=datetime64[ns])\n",
      "  df=pd.read_excel(path+file,sheet_name='Sheet1')\n"
     ]
    },
    {
     "name": "stdout",
     "output_type": "stream",
     "text": [
      "zooplus pallet acc 05-2023 Cadocare.xlsx\n",
      "zooplus pallet acc 05-2023 Calibra.xlsx\n",
      "zooplus pallet acc 05-2023 Caniland.xlsx\n",
      "zooplus pallet acc 05-2023 Certech.xlsx\n",
      "zooplus pallet acc 05-2023 Ceva.xlsx\n",
      "zooplus pallet acc 05-2023 Degro.xlsx\n",
      "zooplus pallet acc 05-2023 Delipet.xlsx\n",
      "zooplus pallet acc 05-2023 Demavic.xlsx\n",
      "zooplus pallet acc 05-2023 Deuerer.xlsx\n"
     ]
    },
    {
     "name": "stderr",
     "output_type": "stream",
     "text": [
      "C:\\Users\\berid\\AppData\\Local\\Temp\\ipykernel_2356\\3707083946.py:4: FutureWarning: Inferring datetime64[ns] from data containing strings is deprecated and will be removed in a future version. To retain the old behavior explicitly pass Series(data, dtype=datetime64[ns])\n",
      "  df=pd.read_excel(path+file,sheet_name='Sheet1')\n"
     ]
    },
    {
     "name": "stdout",
     "output_type": "stream",
     "text": [
      "zooplus pallet acc 05-2023 Dibaq.xlsx\n",
      "zooplus pallet acc 05-2023 Dibo.xlsx\n"
     ]
    },
    {
     "name": "stderr",
     "output_type": "stream",
     "text": [
      "C:\\Users\\berid\\AppData\\Local\\Temp\\ipykernel_2356\\3707083946.py:4: FutureWarning: Inferring datetime64[ns] from data containing strings is deprecated and will be removed in a future version. To retain the old behavior explicitly pass Series(data, dtype=datetime64[ns])\n",
      "  df=pd.read_excel(path+file,sheet_name='Sheet1')\n"
     ]
    },
    {
     "name": "stdout",
     "output_type": "stream",
     "text": [
      "zooplus pallet acc 05-2023 Doggy Bozita.xlsx\n",
      "zooplus pallet acc 05-2023 Dokas.xlsx\n",
      "zooplus pallet acc 05-2023 Dolina Noteci (DNP).xlsx\n",
      "zooplus pallet acc 05-2023 Eggersmann.xlsx\n",
      "zooplus pallet acc 05-2023 Everclean.xlsx\n",
      "zooplus pallet acc 05-2023 Exclusion.xlsx\n",
      "zooplus pallet acc 05-2023 Farmina.xlsx\n",
      "zooplus pallet acc 05-2023 Ferplast.xlsx\n",
      "zooplus pallet acc 05-2023 Fibrecycle.xlsx\n",
      "zooplus pallet acc 05-2023 Fihumin.xlsx\n"
     ]
    },
    {
     "name": "stderr",
     "output_type": "stream",
     "text": [
      "C:\\Users\\berid\\AppData\\Local\\Temp\\ipykernel_2356\\3707083946.py:4: FutureWarning: Inferring datetime64[ns] from data containing strings is deprecated and will be removed in a future version. To retain the old behavior explicitly pass Series(data, dtype=datetime64[ns])\n",
      "  df=pd.read_excel(path+file,sheet_name='Sheet1')\n"
     ]
    },
    {
     "name": "stdout",
     "output_type": "stream",
     "text": [
      "zooplus pallet acc 05-2023 Finnern.xlsx\n",
      "zooplus pallet acc 05-2023 Fleischeslust.xlsx\n",
      "zooplus pallet acc 05-2023 Forthglade.xlsx\n",
      "zooplus pallet acc 05-2023 Forza 10.xlsx\n"
     ]
    },
    {
     "name": "stderr",
     "output_type": "stream",
     "text": [
      "C:\\Users\\berid\\AppData\\Local\\Temp\\ipykernel_2356\\3707083946.py:4: FutureWarning: Inferring datetime64[ns] from data containing strings is deprecated and will be removed in a future version. To retain the old behavior explicitly pass Series(data, dtype=datetime64[ns])\n",
      "  df=pd.read_excel(path+file,sheet_name='Sheet1')\n"
     ]
    },
    {
     "name": "stdout",
     "output_type": "stream",
     "text": [
      "zooplus pallet acc 05-2023 Freeze dry.xlsx\n",
      "zooplus pallet acc 05-2023 Futura Cargo.xlsx\n",
      "zooplus pallet acc 05-2023 Gimborn.xlsx\n",
      "zooplus pallet acc 05-2023 Granatapet.xlsx\n",
      "zooplus pallet acc 05-2023 Grau.xlsx\n",
      "zooplus pallet acc 05-2023 Hagen.xlsx\n",
      "zooplus pallet acc 05-2023 Hansepet.xlsx\n",
      "zooplus pallet acc 05-2023 Herrmanns.xlsx\n",
      "zooplus pallet acc 05-2023 Hill's.xlsx\n",
      "zooplus pallet acc 05-2023 Hugro.xlsx\n",
      "zooplus pallet acc 05-2023 Hunter.xlsx\n"
     ]
    },
    {
     "name": "stderr",
     "output_type": "stream",
     "text": [
      "C:\\Users\\berid\\AppData\\Local\\Temp\\ipykernel_2356\\3707083946.py:4: FutureWarning: Inferring datetime64[ns] from data containing strings is deprecated and will be removed in a future version. To retain the old behavior explicitly pass Series(data, dtype=datetime64[ns])\n",
      "  df=pd.read_excel(path+file,sheet_name='Sheet1')\n"
     ]
    },
    {
     "name": "stdout",
     "output_type": "stream",
     "text": [
      "zooplus pallet acc 05-2023 I-TAIL.xlsx\n",
      "zooplus pallet acc 05-2023 IAMS.xlsx\n",
      "zooplus pallet acc 05-2023 Innova.xlsx\n",
      "zooplus pallet acc 05-2023 Interquell.xlsx\n",
      "zooplus pallet acc 05-2023 Intersand.xlsx\n",
      "zooplus pallet acc 05-2023 JR Farm.xlsx\n",
      "zooplus pallet acc 05-2023 JRS.xlsx\n",
      "zooplus pallet acc 05-2023 Karlie.xlsx\n",
      "zooplus pallet acc 05-2023 Kerbl.xlsx\n",
      "zooplus pallet acc 05-2023 Kleinmetall.xlsx\n"
     ]
    },
    {
     "name": "stderr",
     "output_type": "stream",
     "text": [
      "C:\\Users\\berid\\AppData\\Local\\Temp\\ipykernel_2356\\3707083946.py:4: FutureWarning: Inferring datetime64[ns] from data containing strings is deprecated and will be removed in a future version. To retain the old behavior explicitly pass Series(data, dtype=datetime64[ns])\n",
      "  df=pd.read_excel(path+file,sheet_name='Sheet1')\n"
     ]
    },
    {
     "name": "stdout",
     "output_type": "stream",
     "text": [
      "zooplus pallet acc 05-2023 Kong.xlsx\n",
      "zooplus pallet acc 05-2023 Landguth.xlsx\n",
      "zooplus pallet acc 05-2023 Limelco.xlsx\n",
      "zooplus pallet acc 05-2023 Longfeng.xlsx\n",
      "zooplus pallet acc 05-2023 Maced.xlsx\n",
      "zooplus pallet acc 05-2023 Markusmuehle.xlsx\n",
      "zooplus pallet acc 05-2023 Mars.xlsx\n",
      "zooplus pallet acc 05-2023 Marstall.xlsx\n",
      "zooplus pallet acc 05-2023 Meier Hille.xlsx\n",
      "zooplus pallet acc 05-2023 Mera.xlsx\n",
      "zooplus pallet acc 05-2023 Mjamjam.xlsx\n"
     ]
    },
    {
     "name": "stderr",
     "output_type": "stream",
     "text": [
      "C:\\Users\\berid\\AppData\\Local\\Temp\\ipykernel_2356\\3707083946.py:4: FutureWarning: Inferring datetime64[ns] from data containing strings is deprecated and will be removed in a future version. To retain the old behavior explicitly pass Series(data, dtype=datetime64[ns])\n",
      "  df=pd.read_excel(path+file,sheet_name='Sheet1')\n"
     ]
    },
    {
     "name": "stdout",
     "output_type": "stream",
     "text": [
      "zooplus pallet acc 05-2023 MPM.xlsx\n",
      "zooplus pallet acc 05-2023 Muehldorfer.xlsx\n"
     ]
    },
    {
     "name": "stderr",
     "output_type": "stream",
     "text": [
      "C:\\Users\\berid\\AppData\\Local\\Temp\\ipykernel_2356\\3707083946.py:4: FutureWarning: Inferring datetime64[ns] from data containing strings is deprecated and will be removed in a future version. To retain the old behavior explicitly pass Series(data, dtype=datetime64[ns])\n",
      "  df=pd.read_excel(path+file,sheet_name='Sheet1')\n"
     ]
    },
    {
     "name": "stdout",
     "output_type": "stream",
     "text": [
      "zooplus pallet acc 05-2023 Naturediet.xlsx\n",
      "zooplus pallet acc 05-2023 Nestle.xlsx\n",
      "zooplus pallet acc 05-2023 NID.xlsx\n",
      "zooplus pallet acc 05-2023 Nutrivet.xlsx\n",
      "zooplus pallet acc 05-2023 Ospelt.xlsx\n",
      "zooplus pallet acc 05-2023 Padogs.xlsx\n",
      "zooplus pallet acc 05-2023 Pavo.xlsx\n",
      "zooplus pallet acc 05-2023 Pet mate.xlsx\n",
      "zooplus pallet acc 05-2023 Pet-Earth.xlsx\n",
      "zooplus pallet acc 05-2023 Petlife (vetbed).xlsx\n",
      "zooplus pallet acc 05-2023 PetProject.xlsx\n",
      "zooplus pallet acc 05-2023 Pets Nature.xlsx\n",
      "zooplus pallet acc 05-2023 Placek.xlsx\n",
      "zooplus pallet acc 05-2023 Portapet (Schulze).xlsx\n",
      "zooplus pallet acc 05-2023 Pro Pet.xlsx\n",
      "zooplus pallet acc 05-2023 Ranova.xlsx\n"
     ]
    },
    {
     "name": "stderr",
     "output_type": "stream",
     "text": [
      "C:\\Users\\berid\\AppData\\Local\\Temp\\ipykernel_2356\\3707083946.py:4: FutureWarning: Inferring datetime64[ns] from data containing strings is deprecated and will be removed in a future version. To retain the old behavior explicitly pass Series(data, dtype=datetime64[ns])\n",
      "  df=pd.read_excel(path+file,sheet_name='Sheet1')\n"
     ]
    },
    {
     "name": "stdout",
     "output_type": "stream",
     "text": [
      "zooplus pallet acc 05-2023 Royal Canin.xlsx\n",
      "zooplus pallet acc 05-2023 Rupp Food.xlsx\n",
      "zooplus pallet acc 05-2023 Saturn.xlsx\n",
      "zooplus pallet acc 05-2023 Savic.xlsx\n",
      "zooplus pallet acc 05-2023 Scholtus.xlsx\n",
      "zooplus pallet acc 05-2023 Seitz.xlsx\n",
      "zooplus pallet acc 05-2023 Simpsons.xlsx\n",
      "zooplus pallet acc 05-2023 Sivomatic.xlsx\n",
      "zooplus pallet acc 05-2023 Skyline.xlsx\n",
      "zooplus pallet acc 05-2023 Smurfit.xlsx\n",
      "zooplus pallet acc 05-2023 Storopack.xlsx\n",
      "zooplus pallet acc 05-2023 Sureflap.xlsx\n",
      "zooplus pallet acc 05-2023 Terra Canis.xlsx\n",
      "zooplus pallet acc 05-2023 Thai Union.xlsx\n",
      "zooplus pallet acc 05-2023 Tinika.xlsx\n",
      "zooplus pallet acc 05-2023 Tofi-Vet.xlsx\n",
      "zooplus pallet acc 05-2023 Tolsa Sanicat.xlsx\n",
      "zooplus pallet acc 05-2023 Trixie.xlsx\n",
      "zooplus pallet acc 05-2023 VAFO.xlsx\n",
      "zooplus pallet acc 05-2023 VersaPet.xlsx\n",
      "zooplus pallet acc 05-2023 Versele.xlsx\n",
      "zooplus pallet acc 05-2023 Vitakraft.xlsx\n",
      "zooplus pallet acc 05-2023 Witte Molen.xlsx\n",
      "zooplus pallet acc 05-2023 Wonderfood.xlsx\n",
      "zooplus pallet acc 05-2023 Yarrah.xlsx\n"
     ]
    },
    {
     "name": "stderr",
     "output_type": "stream",
     "text": [
      "C:\\Users\\berid\\AppData\\Local\\Temp\\ipykernel_2356\\3707083946.py:4: FutureWarning: Inferring datetime64[ns] from data containing strings is deprecated and will be removed in a future version. To retain the old behavior explicitly pass Series(data, dtype=datetime64[ns])\n",
      "  df=pd.read_excel(path+file,sheet_name='Sheet1')\n"
     ]
    }
   ],
   "source": [
    "balance_dictionary={}\n",
    "for file in os.listdir(path):\n",
    "    supplier=file.split('.xls')[0].split('2023')[-1].strip()\n",
    "    df=pd.read_excel(path+file,sheet_name='Sheet1')\n",
    "    Balance=df['EUR-returned'].sum()-df['EUR-delivered'].sum()\n",
    "    df_current_month=df.query('Month==\"May\" and `Reception Warehouse`!=\"Balance 2022\"') # change value for different month\n",
    "    pallets_delivered_last_month=df_current_month['EUR-delivered'].sum()\n",
    "    pallets_returned_last_month=df_current_month['EUR-returned'].sum()\n",
    "    \n",
    "    balance_dictionary[supplier]=[Balance,pallets_delivered_last_month,pallets_returned_last_month]\n",
    "    print(file)"
   ]
  },
  {
   "cell_type": "code",
   "execution_count": 24,
   "id": "d17c486a",
   "metadata": {},
   "outputs": [],
   "source": [
    "balance_csv=pd.DataFrame(balance_dictionary).T\n",
    "balance_csv.columns=['Balance','Delivered','Returned']\n",
    "balance_csv.to_csv(path+'Balances.csv',index=True)"
   ]
  },
  {
   "cell_type": "code",
   "execution_count": null,
   "id": "d7ed1b24",
   "metadata": {},
   "outputs": [],
   "source": []
  }
 ],
 "metadata": {
  "kernelspec": {
   "display_name": "Python 3 (ipykernel)",
   "language": "python",
   "name": "python3"
  },
  "language_info": {
   "codemirror_mode": {
    "name": "ipython",
    "version": 3
   },
   "file_extension": ".py",
   "mimetype": "text/x-python",
   "name": "python",
   "nbconvert_exporter": "python",
   "pygments_lexer": "ipython3",
   "version": "3.11.2"
  }
 },
 "nbformat": 4,
 "nbformat_minor": 5
}
