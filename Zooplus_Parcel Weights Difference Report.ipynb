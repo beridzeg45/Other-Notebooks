{
 "cells": [
  {
   "cell_type": "code",
   "execution_count": 1,
   "id": "43cf80fd",
   "metadata": {},
   "outputs": [],
   "source": [
    "import pandas as pd\n",
    "\n",
    "pd.options.display.max_columns=100"
   ]
  },
  {
   "cell_type": "code",
   "execution_count": 2,
   "id": "7973ce6a",
   "metadata": {},
   "outputs": [],
   "source": [
    "path=r'C:\\Users\\berid\\OneDrive\\Desktop\\CW23\\\\'"
   ]
  },
  {
   "cell_type": "code",
   "execution_count": 3,
   "id": "cb9fc4eb",
   "metadata": {},
   "outputs": [],
   "source": [
    "df=pd.read_excel(path+\"Parcel Details cw 23-2023.xlsx\")\n",
    "\n",
    "df['FC']=df['FC'].astype(str)\n",
    "df['CW']=df['CW'].astype(int)\n",
    "df['CONF_LITTER_WEIGHT']=df['CONF_LITTER_WEIGHT'].astype(int)\n",
    "cw=23 # cahnge the calendar week\n",
    "id_columns=df.columns[df.columns.str.contains('ID',regex=True)]\n",
    "df[id_columns]=df[id_columns].astype(str)\n",
    "\n",
    "df=df[df['CW']==cw]  \n",
    " \n",
    "FCs_dictionary={\n",
    "'328':'ANR',\n",
    "'329':'BHX',\n",
    "'344':'BOR',\n",
    "'343':'BTS',\n",
    "'342':'BUD',\n",
    "'327':'CHA',\n",
    "'325':'HOE',\n",
    "'330':'JIR',\n",
    "'334':'KRO',\n",
    "'336':'MIL',\n",
    "'335':'MAD',\n",
    "'324':'TIL',\n",
    "'326':'WRO'\n",
    "}"
   ]
  },
  {
   "cell_type": "code",
   "execution_count": 4,
   "id": "fa5189d1",
   "metadata": {},
   "outputs": [],
   "source": [
    "df_orig=df[df['BOX']=='ORIG']\n",
    "df_orig.to_excel(path+'Parcel weight difference CW{cw}-2023_Orig.xlsx',index=False)"
   ]
  },
  {
   "cell_type": "code",
   "execution_count": 5,
   "id": "fbe150c2",
   "metadata": {},
   "outputs": [],
   "source": [
    "df_fcs=df[(df['BOX']!='ORIG')&(df['CONF_LITTER_WEIGHT']==0)]"
   ]
  },
  {
   "cell_type": "code",
   "execution_count": 6,
   "id": "d4b090a4",
   "metadata": {},
   "outputs": [],
   "source": [
    "for fc_id,fc_name in FCs_dictionary.items():\n",
    "    df_fc=df_fcs[df_fcs['FC']==fc_id]\n",
    "    df_fc.to_excel(f'{path}Parcel weight difference CW{cw}-2023_{fc_name}.xlsx',index=False)"
   ]
  },
  {
   "cell_type": "code",
   "execution_count": null,
   "id": "95a9a2ee",
   "metadata": {},
   "outputs": [],
   "source": []
  }
 ],
 "metadata": {
  "kernelspec": {
   "display_name": "Python 3 (ipykernel)",
   "language": "python",
   "name": "python3"
  },
  "language_info": {
   "codemirror_mode": {
    "name": "ipython",
    "version": 3
   },
   "file_extension": ".py",
   "mimetype": "text/x-python",
   "name": "python",
   "nbconvert_exporter": "python",
   "pygments_lexer": "ipython3",
   "version": "3.11.2"
  }
 },
 "nbformat": 4,
 "nbformat_minor": 5
}
